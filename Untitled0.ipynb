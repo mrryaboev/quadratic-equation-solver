{
  "nbformat": 4,
  "nbformat_minor": 0,
  "metadata": {
    "colab": {
      "provenance": [],
      "authorship_tag": "ABX9TyON+CxL0LZ4r8EX0gDmd3Yh",
      "include_colab_link": true
    },
    "kernelspec": {
      "name": "python3",
      "display_name": "Python 3"
    },
    "language_info": {
      "name": "python"
    }
  },
  "cells": [
    {
      "cell_type": "markdown",
      "metadata": {
        "id": "view-in-github",
        "colab_type": "text"
      },
      "source": [
        "<a href=\"https://colab.research.google.com/github/mrryaboev/quadratic-equation-solver/blob/main/Untitled0.ipynb\" target=\"_parent\"><img src=\"https://colab.research.google.com/assets/colab-badge.svg\" alt=\"Open In Colab\"/></a>"
      ]
    },
    {
      "cell_type": "code",
      "execution_count": 1,
      "metadata": {
        "colab": {
          "base_uri": "https://localhost:8080/",
          "height": 332
        },
        "id": "sj147lRrk3Oy",
        "outputId": "91ffdf6e-7223-4599-c792-6ce6ef4d4847"
      },
      "outputs": [
        {
          "output_type": "error",
          "ename": "FileNotFoundError",
          "evalue": "[Errno 2] No such file or directory: 'books_before'",
          "traceback": [
            "\u001b[0;31m---------------------------------------------------------------------------\u001b[0m",
            "\u001b[0;31mFileNotFoundError\u001b[0m                         Traceback (most recent call last)",
            "\u001b[0;32m<ipython-input-1-4492d5a2bdd1>\u001b[0m in \u001b[0;36m<cell line: 52>\u001b[0;34m()\u001b[0m\n\u001b[1;32m     52\u001b[0m \u001b[0;32mif\u001b[0m \u001b[0m__name__\u001b[0m \u001b[0;34m==\u001b[0m \u001b[0;34m\"__main__\"\u001b[0m\u001b[0;34m:\u001b[0m\u001b[0;34m\u001b[0m\u001b[0;34m\u001b[0m\u001b[0m\n\u001b[1;32m     53\u001b[0m     \u001b[0mfolder_path\u001b[0m \u001b[0;34m=\u001b[0m \u001b[0;34m\"books_before\"\u001b[0m \u001b[0;31m# Укажите путь к папке с текстами\u001b[0m\u001b[0;34m\u001b[0m\u001b[0;34m\u001b[0m\u001b[0m\n\u001b[0;32m---> 54\u001b[0;31m     \u001b[0mword_freq_dict\u001b[0m \u001b[0;34m=\u001b[0m \u001b[0mcreate_word_freq_dict\u001b[0m\u001b[0;34m(\u001b[0m\u001b[0mfolder_path\u001b[0m\u001b[0;34m)\u001b[0m\u001b[0;34m\u001b[0m\u001b[0;34m\u001b[0m\u001b[0m\n\u001b[0m\u001b[1;32m     55\u001b[0m     \u001b[0msave_freq_dict\u001b[0m\u001b[0;34m(\u001b[0m\u001b[0mword_freq_dict\u001b[0m\u001b[0;34m,\u001b[0m \u001b[0;34m\"word_freq.txt\"\u001b[0m\u001b[0;34m)\u001b[0m\u001b[0;34m\u001b[0m\u001b[0;34m\u001b[0m\u001b[0m\n\u001b[1;32m     56\u001b[0m     \u001b[0manalyze_freq_dict\u001b[0m\u001b[0;34m(\u001b[0m\u001b[0mword_freq_dict\u001b[0m\u001b[0;34m)\u001b[0m\u001b[0;34m\u001b[0m\u001b[0;34m\u001b[0m\u001b[0m\n",
            "\u001b[0;32m<ipython-input-1-4492d5a2bdd1>\u001b[0m in \u001b[0;36mcreate_word_freq_dict\u001b[0;34m(folder_path)\u001b[0m\n\u001b[1;32m     13\u001b[0m     \u001b[0;34m\"\"\"Создает частотный словарь слов из файлов в указанной папке.\"\"\"\u001b[0m\u001b[0;34m\u001b[0m\u001b[0;34m\u001b[0m\u001b[0m\n\u001b[1;32m     14\u001b[0m     \u001b[0mword_freq\u001b[0m \u001b[0;34m=\u001b[0m \u001b[0mCounter\u001b[0m\u001b[0;34m(\u001b[0m\u001b[0;34m)\u001b[0m\u001b[0;34m\u001b[0m\u001b[0;34m\u001b[0m\u001b[0m\n\u001b[0;32m---> 15\u001b[0;31m     \u001b[0;32mfor\u001b[0m \u001b[0mfilename\u001b[0m \u001b[0;32min\u001b[0m \u001b[0mos\u001b[0m\u001b[0;34m.\u001b[0m\u001b[0mlistdir\u001b[0m\u001b[0;34m(\u001b[0m\u001b[0mfolder_path\u001b[0m\u001b[0;34m)\u001b[0m\u001b[0;34m:\u001b[0m\u001b[0;34m\u001b[0m\u001b[0;34m\u001b[0m\u001b[0m\n\u001b[0m\u001b[1;32m     16\u001b[0m         \u001b[0;32mif\u001b[0m \u001b[0mfilename\u001b[0m\u001b[0;34m.\u001b[0m\u001b[0mendswith\u001b[0m\u001b[0;34m(\u001b[0m\u001b[0;34m\".txt\"\u001b[0m\u001b[0;34m)\u001b[0m\u001b[0;34m:\u001b[0m\u001b[0;34m\u001b[0m\u001b[0;34m\u001b[0m\u001b[0m\n\u001b[1;32m     17\u001b[0m             \u001b[0mfile_path\u001b[0m \u001b[0;34m=\u001b[0m \u001b[0mos\u001b[0m\u001b[0;34m.\u001b[0m\u001b[0mpath\u001b[0m\u001b[0;34m.\u001b[0m\u001b[0mjoin\u001b[0m\u001b[0;34m(\u001b[0m\u001b[0mfolder_path\u001b[0m\u001b[0;34m,\u001b[0m \u001b[0mfilename\u001b[0m\u001b[0;34m)\u001b[0m\u001b[0;34m\u001b[0m\u001b[0;34m\u001b[0m\u001b[0m\n",
            "\u001b[0;31mFileNotFoundError\u001b[0m: [Errno 2] No such file or directory: 'books_before'"
          ]
        }
      ],
      "source": [
        "import os\n",
        "import re\n",
        "from collections import Counter\n",
        "\n",
        "def preprocess_text(text):\n",
        "    \"\"\"Приводит текст к нижнему регистру, удаляет пунктуацию и не буквенные символы, а также делит текст на слова\"\"\"\n",
        "    text = text.lower()\n",
        "    text = re.sub(r'[^а-яё\\s]', '', text)\n",
        "    words = text.split()\n",
        "    return words\n",
        "\n",
        "def create_word_freq_dict(folder_path):\n",
        "    \"\"\"Создает частотный словарь слов из файлов в указанной папке.\"\"\"\n",
        "    word_freq = Counter()\n",
        "    for filename in os.listdir(folder_path):\n",
        "        if filename.endswith(\".txt\"):\n",
        "            file_path = os.path.join(folder_path, filename)\n",
        "            with open(file_path, \"r\", encoding=\"utf-8\") as file:\n",
        "                text = file.read()\n",
        "                words = preprocess_text(text)\n",
        "                word_freq.update(words)\n",
        "    return word_freq\n",
        "\n",
        "def save_freq_dict(freq_dict, filename):\n",
        "    \"\"\"Сохраняет частотный словарь в файл.\"\"\"\n",
        "    with open(filename, \"w\", encoding=\"utf-8\") as file:\n",
        "        for word, freq in freq_dict.items():\n",
        "            file.write(f\"{word}\\t{freq}\\n\")\n",
        "\n",
        "\n",
        "def analyze_freq_dict(freq_dict):\n",
        "    \"\"\"Анализирует частотный словарь и выводит результаты.\"\"\"\n",
        "    total_words = sum(freq_dict.values())\n",
        "    unique_words = len(freq_dict)\n",
        "    top_10_words = freq_dict.most_common(10)\n",
        "\n",
        "    letter_freq = Counter()\n",
        "    for word in freq_dict.keys():\n",
        "        letter_freq.update(word)\n",
        "    top_10_letters = letter_freq.most_common(10)\n",
        "\n",
        "    print(f\"Общее количество слов в текстах: {total_words}\")\n",
        "    print(f\"Количество различных слов в текстах: {unique_words}\")\n",
        "    print(\"Топ-10 слов:\")\n",
        "    for word, freq in top_10_words:\n",
        "        print(f\"{word}: {freq}\")\n",
        "    print(\"Топ-10 букв:\")\n",
        "    for letter, freq in top_10_letters:\n",
        "         print(f\"{letter}: {freq}\")\n",
        "\n",
        "\n",
        "if __name__ == \"__main__\":\n",
        "    folder_path = \"books_before\" # Укажите путь к папке с текстами\n",
        "    word_freq_dict = create_word_freq_dict(folder_path)\n",
        "    save_freq_dict(word_freq_dict, \"word_freq.txt\")\n",
        "    analyze_freq_dict(word_freq_dict)"
      ]
    }
  ]
}